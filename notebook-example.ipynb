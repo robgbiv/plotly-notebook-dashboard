{
 "cells": [
  {
   "cell_type": "code",
   "execution_count": 2,
   "metadata": {
    "collapsed": true
   },
   "outputs": [],
   "source": [
    "import plotly.plotly as py      # Every function in this module will communicate with an external plotly server\n",
    "foo = py.plot({                      # use `py.iplot` inside the ipython notebook\n",
    "    \"data\": [{\n",
    "        \"x\": [1, 2, 3, 4],\n",
    "        \"y\": [4, 2, 5, 10]\n",
    "    }],\n",
    "    \"layout\": {\n",
    "        \"title\": \"a\"\n",
    "    }\n",
    "}, filename='foo/01',      # name of the file as saved in your plotly account\n",
    "   privacy='public')            # 'public' | 'private' | 'secret': Learn more: https://plot.ly/python/privacy"
   ]
  },
  {
   "cell_type": "code",
   "execution_count": 7,
   "metadata": {
    "collapsed": false
   },
   "outputs": [
    {
     "name": "stdout",
     "output_type": "stream",
     "text": [
      "dashboard url: http://dashboards.ly/ua-MZ4gXviMpLnNkbQvS8gGQP\n"
     ]
    }
   ],
   "source": [
    "import dashboard\n",
    "plots = ['https://plot.ly/~robbier/65/a/']\n",
    "dashboard.create(plots, 2)"
   ]
  },
  {
   "cell_type": "code",
   "execution_count": null,
   "metadata": {
    "collapsed": true
   },
   "outputs": [],
   "source": []
  }
 ],
 "metadata": {
  "kernelspec": {
   "display_name": "Python 2",
   "language": "python",
   "name": "python2"
  },
  "language_info": {
   "codemirror_mode": {
    "name": "ipython",
    "version": 2
   },
   "file_extension": ".py",
   "mimetype": "text/x-python",
   "name": "python",
   "nbconvert_exporter": "python",
   "pygments_lexer": "ipython2",
   "version": "2.7.10"
  }
 },
 "nbformat": 4,
 "nbformat_minor": 0
}
